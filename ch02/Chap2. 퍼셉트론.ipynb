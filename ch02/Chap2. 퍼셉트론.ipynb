{
 "cells": [
  {
   "cell_type": "code",
   "execution_count": 1,
   "id": "09b63543",
   "metadata": {
    "ExecuteTime": {
     "end_time": "2022-03-14T02:53:42.092248Z",
     "start_time": "2022-03-14T02:53:42.081818Z"
    }
   },
   "outputs": [],
   "source": [
    "# AND 게이트\n",
    "def AND(x1, x2):\n",
    "    w1, w2, theta = 0.5, 0.5, 0.7\n",
    "    tmp = x1 * w1 + x2 * w2\n",
    "    if tmp <= theta:\n",
    "        return 0\n",
    "    elif tmp > theta:\n",
    "        return 1"
   ]
  },
  {
   "cell_type": "code",
   "execution_count": 4,
   "id": "63c85f9c",
   "metadata": {
    "ExecuteTime": {
     "end_time": "2022-03-14T02:54:01.864683Z",
     "start_time": "2022-03-14T02:54:01.860142Z"
    }
   },
   "outputs": [],
   "source": [
    "# 가중치와 편향 도입한 AND 게이트\n",
    "def AND(x1, x2):\n",
    "    x = np.array([x1, x2])\n",
    "    w = np.array([0.5, 0.5])\n",
    "    b = -0.7\n",
    "    tmp = np.sum(w*x) + b\n",
    "    if tmp <= 0:\n",
    "        return 0\n",
    "    else:\n",
    "        return 1"
   ]
  },
  {
   "cell_type": "code",
   "execution_count": 5,
   "id": "714b915f",
   "metadata": {
    "ExecuteTime": {
     "end_time": "2022-03-14T02:54:18.940733Z",
     "start_time": "2022-03-14T02:54:18.934239Z"
    }
   },
   "outputs": [],
   "source": [
    "# NAND 게이트\n",
    "def NAND(x1, x2):\n",
    "    x = np.array([x1, x2])\n",
    "    w = np.array([-0.5, -0.5])\n",
    "    b = 0.7\n",
    "    tmp = np.sum(w*x) + b\n",
    "    if tmp <= 0:\n",
    "        return 0\n",
    "    else:\n",
    "        return 1"
   ]
  },
  {
   "cell_type": "code",
   "execution_count": 6,
   "id": "5660dc41",
   "metadata": {
    "ExecuteTime": {
     "end_time": "2022-03-14T02:54:36.081070Z",
     "start_time": "2022-03-14T02:54:36.075121Z"
    }
   },
   "outputs": [],
   "source": [
    "# OR 게이트\n",
    "def OR(x1, x2):\n",
    "    x = np.array([x1, x2])\n",
    "    w = np.array([0.5, 0.5])\n",
    "    b = -0.2\n",
    "    tmp = np.sum(w*x) + b\n",
    "    if tmp <= 0:\n",
    "        return 0\n",
    "    else:\n",
    "        return 1"
   ]
  },
  {
   "cell_type": "code",
   "execution_count": 7,
   "id": "bd5e889b",
   "metadata": {
    "ExecuteTime": {
     "end_time": "2022-03-14T02:54:47.780751Z",
     "start_time": "2022-03-14T02:54:47.774002Z"
    }
   },
   "outputs": [],
   "source": [
    "def XOR(x1, x2):\n",
    "    s1 = NAND(x1, x2)\n",
    "    s2 = OR(x1, x2)\n",
    "    y = AND(s1, s2)\n",
    "    return y"
   ]
  }
 ],
 "metadata": {
  "kernelspec": {
   "display_name": "Python 3 (ipykernel)",
   "language": "python",
   "name": "python3"
  },
  "language_info": {
   "codemirror_mode": {
    "name": "ipython",
    "version": 3
   },
   "file_extension": ".py",
   "mimetype": "text/x-python",
   "name": "python",
   "nbconvert_exporter": "python",
   "pygments_lexer": "ipython3",
   "version": "3.9.10"
  },
  "toc": {
   "base_numbering": 1,
   "nav_menu": {},
   "number_sections": true,
   "sideBar": true,
   "skip_h1_title": false,
   "title_cell": "Table of Contents",
   "title_sidebar": "Contents",
   "toc_cell": false,
   "toc_position": {},
   "toc_section_display": true,
   "toc_window_display": false
  }
 },
 "nbformat": 4,
 "nbformat_minor": 5
}
